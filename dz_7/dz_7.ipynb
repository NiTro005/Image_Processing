{
  "metadata": {
    "kernelspec": {
      "name": "python",
      "display_name": "Python (Pyodide)",
      "language": "python"
    },
    "language_info": {
      "codemirror_mode": {
        "name": "python",
        "version": 3
      },
      "file_extension": ".py",
      "mimetype": "text/x-python",
      "name": "python",
      "nbconvert_exporter": "python",
      "pygments_lexer": "ipython3",
      "version": "3.8"
    }
  },
  "nbformat_minor": 4,
  "nbformat": 4,
  "cells": [
    {
      "cell_type": "markdown",
      "source": "# Вейвлет-сжатие изображения методом Хаара",
      "metadata": {}
    },
    {
      "cell_type": "markdown",
      "source": "## Импорт библиотек",
      "metadata": {}
    },
    {
      "cell_type": "code",
      "source": "import cv2\nimport numpy as np\nimport os\nfrom collections import Counter",
      "metadata": {
        "trusted": true
      },
      "outputs": [],
      "execution_count": 9
    },
    {
      "cell_type": "markdown",
      "source": "## Пункт 1: Сохранение монохромного изображения",
      "metadata": {}
    },
    {
      "cell_type": "code",
      "source": "img_path = 'sar_1_gray.jpg'\nimg = cv2.imread(img_path, cv2.IMREAD_GRAYSCALE)\n\nnp.savetxt('pixel_image.txt', img, fmt='%d')\npixel_storage_size = os.path.getsize('pixel_image.txt')",
      "metadata": {
        "trusted": true
      },
      "outputs": [],
      "execution_count": 10
    },
    {
      "cell_type": "markdown",
      "source": "## Пункт 2: Вейвлет-преобразование Хаара",
      "metadata": {}
    },
    {
      "cell_type": "code",
      "source": "def haar_transform(image):\n    rows, cols = image.shape\n    image_float = image.astype(np.float64)\n    \n    # Преобразование по строкам\n    row_transform = np.zeros_like(image_float)\n    for i in range(rows):\n        for j in range(0, cols - 1, 2):\n            row_transform[i, j // 2] = (image_float[i, j] + image_float[i, j + 1]) / 2\n            row_transform[i, (j // 2) + cols // 2] = (image_float[i, j] - image_float[i, j + 1]) / 2\n    \n    # Преобразование по столбцам\n    result = np.zeros_like(row_transform)\n    for j in range(cols):\n        for i in range(0, rows - 1, 2):\n            result[i // 2, j] = (row_transform[i, j] + row_transform[i + 1, j]) / 2\n            result[(i // 2) + rows // 2, j] = (row_transform[i, j] - row_transform[i + 1, j]) / 2\n    \n    LL = result[:rows // 2, :cols // 2]\n    LH = result[:rows // 2, cols // 2:]\n    HL = result[rows // 2:, :cols // 2]\n    HH = result[rows // 2:, cols // 2:]\n    \n    return LL, LH, HL, HH\n\nLL, LH, HL, HH = haar_transform(img)\nprint(\"Вейвлет-преобразование выполнено\")",
      "metadata": {
        "trusted": true
      },
      "outputs": [
        {
          "name": "stdout",
          "output_type": "stream",
          "text": "Вейвлет-преобразование выполнено\n"
        }
      ],
      "execution_count": 11
    },
    {
      "cell_type": "markdown",
      "source": "## Пункт 3: Квантование высокочастотных компонент",
      "metadata": {}
    },
    {
      "cell_type": "code",
      "source": "def quantize(coeffs, n_quants):\n    min_val = np.min(coeffs)\n    max_val = np.max(coeffs)\n    step = (max_val - min_val) / n_quants\n    quantized = np.round((coeffs - min_val) / step).astype(int)\n    return quantized\n\nLH_q = quantize(LH, 4)\nHL_q = quantize(HL, 4)\nHH_q = quantize(HH, 4)\n\nprint(\"Квантование выполнено\")",
      "metadata": {
        "trusted": true
      },
      "outputs": [
        {
          "name": "stdout",
          "output_type": "stream",
          "text": "Квантование выполнено\n"
        }
      ],
      "execution_count": 12
    },
    {
      "cell_type": "markdown",
      "source": "## Пункт 4: RLE-кодирование и сохранение",
      "metadata": {}
    },
    {
      "cell_type": "code",
      "source": "def run_length_encode(data):\n    encoded = []\n    for value, count in Counter(data.flatten()).items():\n        encoded.append((value, count))\n    return encoded\n\nLH_rle = run_length_encode(LH_q)\nHL_rle = run_length_encode(HL_q)\nHH_rle = run_length_encode(HH_q)\n\nprint(\"RLE-кодирование выполнено\")",
      "metadata": {
        "trusted": true
      },
      "outputs": [
        {
          "name": "stdout",
          "output_type": "stream",
          "text": "RLE-кодирование выполнено\n"
        }
      ],
      "execution_count": 13
    },
    {
      "cell_type": "markdown",
      "source": "## Сохранение результатов в файл",
      "metadata": {}
    },
    {
      "cell_type": "code",
      "source": "with open('haar_image.txt', 'w') as f:\n    np.savetxt(f, LL, fmt='%d')\n    \n    f.write(\"LH:\\n\")\n    for value, count in LH_rle:\n        f.write(f\"{value} {count}\\n\")\n    \n    f.write(\"HL:\\n\")\n    for value, count in HL_rle:\n        f.write(f\"{value} {count}\\n\")\n\n    f.write(\"HH:\\n\")\n    for value, count in HH_rle:\n        f.write(f\"{value} {count}\\n\")\n",
      "metadata": {
        "trusted": true
      },
      "outputs": [],
      "execution_count": 14
    },
    {
      "cell_type": "markdown",
      "source": "## Сравнение объемов памяти",
      "metadata": {}
    },
    {
      "cell_type": "code",
      "source": "haar_storage_size = os.path.getsize('haar_image.txt')\n\nprint(\"РЕЗУЛЬТАТЫ СЖАТИЯ\")\nprint(f\"Исходный размер: {pixel_storage_size} байт\")\nprint(f\"Размер после сжатия: {haar_storage_size} байт\")\nprint(f\"Коэффициент сжатия: {pixel_storage_size / haar_storage_size:.2f}\")\nprint(f\"Экономия памяти: {(1 - haar_storage_size / pixel_storage_size) * 100:.1f}%\")",
      "metadata": {
        "trusted": true
      },
      "outputs": [
        {
          "name": "stdout",
          "output_type": "stream",
          "text": "РЕЗУЛЬТАТЫ СЖАТИЯ\nИсходный размер: 764822 байт\nРазмер после сжатия: 190893 байт\nКоэффициент сжатия: 4.01\nЭкономия памяти: 75.0%\n"
        }
      ],
      "execution_count": 15
    },
    {
      "cell_type": "code",
      "source": "",
      "metadata": {
        "trusted": true
      },
      "outputs": [],
      "execution_count": null
    }
  ]
}